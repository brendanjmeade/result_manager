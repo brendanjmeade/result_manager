{
 "cells": [
  {
   "cell_type": "code",
   "execution_count": 3,
   "metadata": {},
   "outputs": [],
   "source": [
    "import glob\n",
    "import os\n",
    "import numpy as np"
   ]
  },
  {
   "cell_type": "code",
   "execution_count": 4,
   "metadata": {},
   "outputs": [],
   "source": [
    "def get_newest_run_folder(rewind=0):\n",
    "    \"\"\"\n",
    "    Generate a new folder name based on existing numeric folder names.\n",
    "\n",
    "    This function scans the current directory for folders with numeric names,\n",
    "    identifies the highest number, and returns a new folder name that is one\n",
    "    greater than the highest number, formatted as a zero-padded 10-digit string.\n",
    "\n",
    "    Returns:\n",
    "        str: A new folder name as a zero-padded 10-digit string.\n",
    "\n",
    "    Raises:\n",
    "        ValueError: If no numeric folder names are found in the current directory.\n",
    "\n",
    "    Example:\n",
    "        If the current directory contains folders named \"0000000001\", \"0000000002\",\n",
    "        and \"0000000003\", the function will return \"0000000004\".\n",
    "    \"\"\"\n",
    "    # Get all folder names\n",
    "    folder_names = glob.glob(\"./*/\")\n",
    "\n",
    "    # Remove trailing slashes\n",
    "    folder_names = [folder_name.rstrip(os.sep) for folder_name in folder_names]\n",
    "\n",
    "    # Remove anything before numerical folder name\n",
    "    folder_names = [folder_name[-10:] for folder_name in folder_names]\n",
    "\n",
    "    # Check to see if the folder name is a native run number\n",
    "    folder_names_runs = list()\n",
    "    for folder_name in folder_names:\n",
    "        try:\n",
    "            folder_names_runs.append(int(folder_name))\n",
    "        except ValueError as ex:\n",
    "            pass\n",
    "\n",
    "    # Get new folder name\n",
    "    newest_folder_number = np.max(folder_names_runs) - rewind\n",
    "    newest_folder_name = f\"./{newest_folder_number:010d}\"\n",
    "\n",
    "    return newest_folder_name"
   ]
  },
  {
   "cell_type": "markdown",
   "metadata": {},
   "source": [
    "Cases:\n",
    "- [x] Use new only: python result_manager.py new\n",
    "- [x] Use new and folder from three runs previous: python result_manager.py new 3\n",
    "- [x] Use new and folder_2: python result_manager.py new folder_2\n",
    "- [x] Use folder_1 and folder_2: python result_manager.py folder_1 folder_2"
   ]
  },
  {
   "cell_type": "code",
   "execution_count": 37,
   "metadata": {},
   "outputs": [
    {
     "name": "stdout",
     "output_type": "stream",
     "text": [
      "('0000000005', '0000000001')\n",
      "('0000000005', '0000000002')\n",
      "('0000000344', '')\n",
      "('0000000344', '0000000340')\n",
      "('0000000344', '0000000001')\n"
     ]
    }
   ],
   "source": [
    "def process_folder_strings(first_folder_string, second_folder_string=\"\"):\n",
    "    FOLDER_NAME_LEN = 10\n",
    "\n",
    "    # Get newest folder if first_folder_string is \"new\"\n",
    "    if first_folder_string == \"new\":\n",
    "        first_folder_name = get_newest_run_folder(rewind=0)[-FOLDER_NAME_LEN::]\n",
    "    elif second_folder_string.isdigit():\n",
    "        first_folder_name = first_folder_string\n",
    "\n",
    "    # Check if the second string is empty\n",
    "    if second_folder_string == \"\":\n",
    "        second_folder_name = \"\"\n",
    "\n",
    "    # Check if the second string is of the same form as the first\n",
    "    if second_folder_string.isdigit() and len(second_folder_string) == FOLDER_NAME_LEN:\n",
    "        second_folder_name = second_folder_string\n",
    "\n",
    "    # Check if the second string is an integer\n",
    "    elif second_folder_string.isdigit():\n",
    "        # Convert strings to integers, subtract, then convert back to a ten-digit string\n",
    "        result = int(first_folder_name) - int(second_folder_string)\n",
    "        second_folder_name = f\"{result:010d}\"\n",
    "\n",
    "    return first_folder_name, second_folder_name\n",
    "\n",
    "\n",
    "# Example usage:\n",
    "first_string = \"0000000005\"\n",
    "second_string_1 = \"0000000001\"\n",
    "second_string_2 = \"3\"\n",
    "\n",
    "print(process_folder_strings(first_string, second_string_1))\n",
    "print(process_folder_strings(first_string, second_string_2))\n",
    "print(process_folder_strings(\"new\"))\n",
    "print(process_folder_strings(\"new\", \"4\"))\n",
    "print(process_folder_strings(\"new\", second_string_1))"
   ]
  },
  {
   "cell_type": "code",
   "execution_count": 14,
   "metadata": {},
   "outputs": [
    {
     "data": {
      "text/plain": [
       "'000000034'"
      ]
     },
     "execution_count": 14,
     "metadata": {},
     "output_type": "execute_result"
    }
   ],
   "source": [
    "get_newest_run_folder(rewind=1)[-10:-1]"
   ]
  },
  {
   "cell_type": "markdown",
   "metadata": {},
   "source": [
    "0000000005\n",
    "1234567890\n",
    "0000000343\n",
    "0000000343\n",
    "0000000002"
   ]
  }
 ],
 "metadata": {
  "kernelspec": {
   "display_name": "base",
   "language": "python",
   "name": "python3"
  },
  "language_info": {
   "codemirror_mode": {
    "name": "ipython",
    "version": 3
   },
   "file_extension": ".py",
   "mimetype": "text/x-python",
   "name": "python",
   "nbconvert_exporter": "python",
   "pygments_lexer": "ipython3",
   "version": "3.9.15"
  }
 },
 "nbformat": 4,
 "nbformat_minor": 2
}
